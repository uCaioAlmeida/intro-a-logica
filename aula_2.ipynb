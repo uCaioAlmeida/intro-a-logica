{
  "nbformat": 4,
  "nbformat_minor": 0,
  "metadata": {
    "colab": {
      "provenance": [],
      "authorship_tag": "ABX9TyNp0l9SaBbIKolt+Arnv1Do",
      "include_colab_link": true
    },
    "kernelspec": {
      "name": "python3",
      "display_name": "Python 3"
    },
    "language_info": {
      "name": "python"
    }
  },
  "cells": [
    {
      "cell_type": "markdown",
      "metadata": {
        "id": "view-in-github",
        "colab_type": "text"
      },
      "source": [
        "<a href=\"https://colab.research.google.com/github/uCaioAlmeida/intro-a-logica/blob/main/aula_2.ipynb\" target=\"_parent\"><img src=\"https://colab.research.google.com/assets/colab-badge.svg\" alt=\"Open In Colab\"/></a>"
      ]
    },
    {
      "cell_type": "markdown",
      "source": [
        "alguns dos códigos foram importados de outra linguagem na qual já havia feito, portanto possuem assuntos ainda não abordados, meu github com os códigos em outras linguagens: https://github.com/uCaioAlmeida/intro-a-logica.git"
      ],
      "metadata": {
        "id": "zT8vyqLgRgOZ"
      }
    },
    {
      "cell_type": "code",
      "source": [
        "largura=12\n",
        "altura=8\n",
        "area=12*8\n",
        "\n",
        "print(area)"
      ],
      "metadata": {
        "id": "Q497vtUf9ZqE",
        "colab": {
          "base_uri": "https://localhost:8080/"
        },
        "outputId": "6cc8844e-4422-46e3-d5c7-e54240d78058"
      },
      "execution_count": 1,
      "outputs": [
        {
          "output_type": "stream",
          "name": "stdout",
          "text": [
            "96\n"
          ]
        }
      ]
    },
    {
      "cell_type": "code",
      "source": [],
      "metadata": {
        "id": "A5UOhXMZR1Ej"
      },
      "execution_count": null,
      "outputs": []
    },
    {
      "cell_type": "code",
      "source": [
        "largura=int(input(\"digite a largura\"))\n",
        "altura=int(input(\"digite a altura\"))\n",
        "area=largura*altura\n",
        "\n",
        "print(\"area do quarto:\", area)"
      ],
      "metadata": {
        "colab": {
          "base_uri": "https://localhost:8080/"
        },
        "id": "Y_MlwEPxADu4",
        "outputId": "6935d66e-bbd6-4ee3-c4c6-ee542ca155f1"
      },
      "execution_count": 3,
      "outputs": [
        {
          "output_type": "stream",
          "name": "stdout",
          "text": [
            "digite a largura12\n",
            "digite a altura8\n",
            "area do quarto: 96\n"
          ]
        }
      ]
    },
    {
      "cell_type": "code",
      "source": [
        "variavela = float(input(\"Digite o primeiro valor: \"))\n",
        "variavelb = float(input(\"Digite o segundo valor: \"))\n",
        "\n",
        "soma = variavela + variavelb\n",
        "multiplicacao = variavela * variavelb\n",
        "divisao = variavela / variavelb\n",
        "subtracao = variavela - variavelb\n",
        "\n",
        "print(\"Soma:\", soma)\n",
        "print(\"Multiplicação:\", multiplicacao)\n",
        "print(\"Divisão:\", divisao)\n",
        "print(\"Subtração:\", subtracao)\n"
      ],
      "metadata": {
        "colab": {
          "base_uri": "https://localhost:8080/"
        },
        "id": "96moDzvWA5to",
        "outputId": "c034c23e-b9e2-46b1-ae98-1cd99902e033"
      },
      "execution_count": 1,
      "outputs": [
        {
          "output_type": "stream",
          "name": "stdout",
          "text": [
            "Digite o primeiro valor: 10\n",
            "Digite o segundo valor: 2\n",
            "Soma: 12.0\n",
            "Multiplicação: 20.0\n",
            "Divisão: 5.0\n",
            "Subtração: 8.0\n"
          ]
        }
      ]
    },
    {
      "cell_type": "code",
      "source": [
        "num1 = float(input(\"Digite o primeiro número: \"))\n",
        "operacao = input(\"Digite a operação (+, -, x, /): \")\n",
        "num2 = float(input(\"Digite o segundo número: \"))\n",
        "\n",
        "if operacao == \"+\":\n",
        "    resultado = num1 + num2\n",
        "elif operacao == \"-\":\n",
        "    resultado = num1 - num2\n",
        "elif operacao == \"x\":\n",
        "    resultado = num1 * num2\n",
        "elif operacao == \"/\":\n",
        "    if num2 != 0:\n",
        "        resultado = num1 / num2\n",
        "    else:\n",
        "        resultado = \"Erro: Divisão por zero não permitida.\"\n",
        "else:\n",
        "    resultado = \"Opção inválida.\"\n",
        "\n",
        "print(\"Resultado:\", resultado)\n"
      ],
      "metadata": {
        "colab": {
          "base_uri": "https://localhost:8080/"
        },
        "id": "Q_XTQjK0BqCa",
        "outputId": "5afce4f2-b00e-450f-9020-234951705bb1"
      },
      "execution_count": 4,
      "outputs": [
        {
          "output_type": "stream",
          "name": "stdout",
          "text": [
            "Digite o primeiro número: 5\n",
            "Digite a operação (+, -, x, /): /\n",
            "Digite o segundo número: 0\n",
            "Resultado: Erro: Divisão por zero não permitida.\n"
          ]
        }
      ]
    },
    {
      "cell_type": "markdown",
      "source": [],
      "metadata": {
        "id": "KU-CdrmRRe0Z"
      }
    },
    {
      "cell_type": "code",
      "source": [
        "nome = input(\"Digite seu nome: \")\n",
        "print(nome)\n",
        "\n",
        "nota1 = float(input(\"Digite a nota 1: \"))\n",
        "peso1 = float(input(\"Digite o peso 1: \"))\n",
        "\n",
        "nota2 = float(input(\"Digite a nota 2: \"))\n",
        "peso2 = float(input(\"Digite o peso 2: \"))\n",
        "\n",
        "nota3 = float(input(\"Digite a nota 3: \"))\n",
        "peso3 = float(input(\"Digite o peso 3: \"))\n",
        "\n",
        "soma_pesos = peso1 + peso2 + peso3\n",
        "media_ponderada = (nota1 * peso1 + nota2 * peso2 + nota3 * peso3) / soma_pesos\n",
        "\n",
        "print(\"A média das notas é:\", round(media_ponderada, 2))\n",
        "\n",
        "if media_ponderada > 7:\n",
        "    print(nome, \",Você Foi aprovado\")\n",
        "else:\n",
        "    print(nome, \",Você foi reprovado\")\n"
      ],
      "metadata": {
        "colab": {
          "base_uri": "https://localhost:8080/"
        },
        "id": "fqH4LLqzECix",
        "outputId": "0ded3c7d-8601-4a42-f56f-6d940dbe0f43"
      },
      "execution_count": 5,
      "outputs": [
        {
          "output_type": "stream",
          "name": "stdout",
          "text": [
            "Digite seu nome: Caio\n",
            "Caio\n",
            "Digite a nota 1: 10\n",
            "Digite o peso 1: 2\n",
            "Digite a nota 2: 2\n",
            "Digite o peso 2: 4\n",
            "Digite a nota 3: 8\n",
            "Digite o peso 3: 6\n",
            "A média das notas é: 6.33\n",
            "Caio ,Você foi reprovado\n"
          ]
        }
      ]
    },
    {
      "cell_type": "code",
      "source": [
        "nome = input(\"Digite seu nome: \")\n",
        "print(nome)\n",
        "\n",
        "valor_total=float(input(nome+ \", digite o total da despesa\"))\n",
        "pessoas=int(input(\"quantidade de pessoas\"))\n",
        "\n",
        "divisao=round(valor_total / pessoas, 2)\n",
        "\n",
        "print(divisao)\n"
      ],
      "metadata": {
        "colab": {
          "base_uri": "https://localhost:8080/"
        },
        "id": "CHKpnB76E36m",
        "outputId": "35f4a1d0-e86a-48c8-e393-88cf4072a76d"
      },
      "execution_count": 32,
      "outputs": [
        {
          "output_type": "stream",
          "name": "stdout",
          "text": [
            "Digite seu nome: caio\n",
            "caio\n",
            "caio, digite o total da despesa414\n",
            "quantidade de pessoas2\n",
            "207.0\n"
          ]
        }
      ]
    },
    {
      "cell_type": "code",
      "source": [
        "altura = float(input(\"digite sua altura\"))\n",
        "peso = float(input(\"digite seu peso\"))\n",
        "\n",
        "imc=round(peso/(altura ** 2), 2)\n",
        "\n",
        "print(imc)"
      ],
      "metadata": {
        "colab": {
          "base_uri": "https://localhost:8080/"
        },
        "id": "fRTg7d7eK7vN",
        "outputId": "328a13bf-76b8-4fb8-b0a1-e41380b7bdc0"
      },
      "execution_count": 21,
      "outputs": [
        {
          "output_type": "stream",
          "name": "stdout",
          "text": [
            "digite sua altura1.79\n",
            "digite seu peso77\n",
            "24.03\n"
          ]
        }
      ]
    },
    {
      "cell_type": "code",
      "source": [],
      "metadata": {
        "id": "2cTDDYKENhBE"
      },
      "execution_count": null,
      "outputs": []
    },
    {
      "cell_type": "markdown",
      "source": [
        "Slide 10"
      ],
      "metadata": {
        "id": "gFOgCBtGNl7y"
      }
    },
    {
      "cell_type": "code",
      "source": [],
      "metadata": {
        "id": "Jygv1R7hNpGl"
      },
      "execution_count": null,
      "outputs": []
    }
  ]
}